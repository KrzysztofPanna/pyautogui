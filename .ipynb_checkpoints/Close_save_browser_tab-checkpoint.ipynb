{
 "cells": [
  {
   "cell_type": "code",
   "execution_count": 13,
   "id": "66645a98",
   "metadata": {},
   "outputs": [],
   "source": [
    "   \"\"\"\n",
    "   Soft has ability to save links fro chrome tab bars in txt file and close cards in browser after saving URL. \n",
    "   In order to stop software (ESD) go to the left up corner of your screen. Last card (on the right side of browser\n",
    "   should have in URL's place put \"end\" word (just tape it) - it shows where is the last card\n",
    "   Output: txt file with links)\n",
    "   \"\"\"\n",
    "\n",
    "import pyautogui\n",
    "import pyperclip\n",
    "\n",
    "pyautogui.PAUSE = 2 # wait 2s after start program (have a time to set mouse in rhgit place)\n",
    "\n",
    "pyautogui.FAILSAFE = True  # ABORT SOFTWARE - moving the mouse to the upper-left will \n",
    "\n",
    "file_to_save_links = open('linki_spisane_z_py.txt', 'a') #open file to save list of links\n",
    "\n",
    "\n",
    "while True: \n",
    "    if pyperclip.paste() == \"end\":\n",
    "        break\n",
    "    else:\n",
    "\n",
    "\n",
    "        pyautogui.hotkey('ctrl', '1') # go to the first tab\n",
    "        pyautogui.hotkey('ctrl', 'l') # zaznaczenie URL from first bar \n",
    "        pyautogui.hotkey('ctrl', 'c') # in browser copy URL bar for Chrome\n",
    "\n",
    "        file_to_save_links.write(f\"\\n{pyperclip.paste()}\")  # paste copied link to the list at the end \n",
    "\n",
    "        pyautogui.hotkey('ctrl', 'w') # in browser - cloase the card \n",
    "\n",
    "\n",
    "        #pyperclip.copy(url_bar)   # copy finction instead of \"crtl+c\"\n",
    "    \n",
    "     \n",
    "\n",
    "file_to_save_links.close()"
   ]
  },
  {
   "cell_type": "code",
   "execution_count": 8,
   "id": "3ffe1d79",
   "metadata": {},
   "outputs": [
    {
     "ename": "FailSafeException",
     "evalue": "PyAutoGUI fail-safe triggered from mouse moving to a corner of the screen. To disable this fail-safe, set pyautogui.FAILSAFE to False. DISABLING FAIL-SAFE IS NOT RECOMMENDED.",
     "output_type": "error",
     "traceback": [
      "\u001b[1;31m---------------------------------------------------------------------------\u001b[0m",
      "\u001b[1;31mFailSafeException\u001b[0m                         Traceback (most recent call last)",
      "\u001b[1;32m<ipython-input-8-b3a3bab5f83f>\u001b[0m in \u001b[0;36m<module>\u001b[1;34m\u001b[0m\n\u001b[0;32m      9\u001b[0m \u001b[0mpyautogui\u001b[0m\u001b[1;33m.\u001b[0m\u001b[0mhotkey\u001b[0m\u001b[1;33m(\u001b[0m\u001b[1;34m'ctrl'\u001b[0m\u001b[1;33m,\u001b[0m \u001b[1;34m'1'\u001b[0m\u001b[1;33m)\u001b[0m \u001b[1;31m# go to the first tab\u001b[0m\u001b[1;33m\u001b[0m\u001b[1;33m\u001b[0m\u001b[0m\n\u001b[0;32m     10\u001b[0m \u001b[0mpyautogui\u001b[0m\u001b[1;33m.\u001b[0m\u001b[0mhotkey\u001b[0m\u001b[1;33m(\u001b[0m\u001b[1;34m'ctrl'\u001b[0m\u001b[1;33m,\u001b[0m \u001b[1;34m'l'\u001b[0m\u001b[1;33m)\u001b[0m \u001b[1;31m# zaznaczenie URL from first bar\u001b[0m\u001b[1;33m\u001b[0m\u001b[1;33m\u001b[0m\u001b[0m\n\u001b[1;32m---> 11\u001b[1;33m \u001b[0mpyautogui\u001b[0m\u001b[1;33m.\u001b[0m\u001b[0mhotkey\u001b[0m\u001b[1;33m(\u001b[0m\u001b[1;34m'ctrl'\u001b[0m\u001b[1;33m,\u001b[0m \u001b[1;34m'c'\u001b[0m\u001b[1;33m)\u001b[0m \u001b[1;31m# in browser copy URL bar for Chrome\u001b[0m\u001b[1;33m\u001b[0m\u001b[1;33m\u001b[0m\u001b[0m\n\u001b[0m\u001b[0;32m     12\u001b[0m \u001b[1;33m\u001b[0m\u001b[0m\n\u001b[0;32m     13\u001b[0m \u001b[1;33m\u001b[0m\u001b[0m\n",
      "\u001b[1;32m~\\anaconda3\\lib\\site-packages\\pyautogui\\__init__.py\u001b[0m in \u001b[0;36mwrapper\u001b[1;34m(*args, **kwargs)\u001b[0m\n\u001b[0;32m    595\u001b[0m     \u001b[1;33m@\u001b[0m\u001b[0mfunctools\u001b[0m\u001b[1;33m.\u001b[0m\u001b[0mwraps\u001b[0m\u001b[1;33m(\u001b[0m\u001b[0mwrappedFunction\u001b[0m\u001b[1;33m)\u001b[0m\u001b[1;33m\u001b[0m\u001b[1;33m\u001b[0m\u001b[0m\n\u001b[0;32m    596\u001b[0m     \u001b[1;32mdef\u001b[0m \u001b[0mwrapper\u001b[0m\u001b[1;33m(\u001b[0m\u001b[1;33m*\u001b[0m\u001b[0margs\u001b[0m\u001b[1;33m,\u001b[0m \u001b[1;33m**\u001b[0m\u001b[0mkwargs\u001b[0m\u001b[1;33m)\u001b[0m\u001b[1;33m:\u001b[0m\u001b[1;33m\u001b[0m\u001b[1;33m\u001b[0m\u001b[0m\n\u001b[1;32m--> 597\u001b[1;33m         \u001b[0mfailSafeCheck\u001b[0m\u001b[1;33m(\u001b[0m\u001b[1;33m)\u001b[0m\u001b[1;33m\u001b[0m\u001b[1;33m\u001b[0m\u001b[0m\n\u001b[0m\u001b[0;32m    598\u001b[0m         \u001b[0mreturnVal\u001b[0m \u001b[1;33m=\u001b[0m \u001b[0mwrappedFunction\u001b[0m\u001b[1;33m(\u001b[0m\u001b[1;33m*\u001b[0m\u001b[0margs\u001b[0m\u001b[1;33m,\u001b[0m \u001b[1;33m**\u001b[0m\u001b[0mkwargs\u001b[0m\u001b[1;33m)\u001b[0m\u001b[1;33m\u001b[0m\u001b[1;33m\u001b[0m\u001b[0m\n\u001b[0;32m    599\u001b[0m         \u001b[0m_handlePause\u001b[0m\u001b[1;33m(\u001b[0m\u001b[0mkwargs\u001b[0m\u001b[1;33m.\u001b[0m\u001b[0mget\u001b[0m\u001b[1;33m(\u001b[0m\u001b[1;34m\"_pause\"\u001b[0m\u001b[1;33m,\u001b[0m \u001b[1;32mTrue\u001b[0m\u001b[1;33m)\u001b[0m\u001b[1;33m)\u001b[0m\u001b[1;33m\u001b[0m\u001b[1;33m\u001b[0m\u001b[0m\n",
      "\u001b[1;32m~\\anaconda3\\lib\\site-packages\\pyautogui\\__init__.py\u001b[0m in \u001b[0;36mfailSafeCheck\u001b[1;34m()\u001b[0m\n\u001b[0;32m   1720\u001b[0m \u001b[1;32mdef\u001b[0m \u001b[0mfailSafeCheck\u001b[0m\u001b[1;33m(\u001b[0m\u001b[1;33m)\u001b[0m\u001b[1;33m:\u001b[0m\u001b[1;33m\u001b[0m\u001b[1;33m\u001b[0m\u001b[0m\n\u001b[0;32m   1721\u001b[0m     \u001b[1;32mif\u001b[0m \u001b[0mFAILSAFE\u001b[0m \u001b[1;32mand\u001b[0m \u001b[0mtuple\u001b[0m\u001b[1;33m(\u001b[0m\u001b[0mposition\u001b[0m\u001b[1;33m(\u001b[0m\u001b[1;33m)\u001b[0m\u001b[1;33m)\u001b[0m \u001b[1;32min\u001b[0m \u001b[0mFAILSAFE_POINTS\u001b[0m\u001b[1;33m:\u001b[0m\u001b[1;33m\u001b[0m\u001b[1;33m\u001b[0m\u001b[0m\n\u001b[1;32m-> 1722\u001b[1;33m         raise FailSafeException(\n\u001b[0m\u001b[0;32m   1723\u001b[0m             \u001b[1;34m\"PyAutoGUI fail-safe triggered from mouse moving to a corner of the screen. To disable this fail-safe, set pyautogui.FAILSAFE to False. DISABLING FAIL-SAFE IS NOT RECOMMENDED.\"\u001b[0m\u001b[1;33m\u001b[0m\u001b[1;33m\u001b[0m\u001b[0m\n\u001b[0;32m   1724\u001b[0m         )\n",
      "\u001b[1;31mFailSafeException\u001b[0m: PyAutoGUI fail-safe triggered from mouse moving to a corner of the screen. To disable this fail-safe, set pyautogui.FAILSAFE to False. DISABLING FAIL-SAFE IS NOT RECOMMENDED."
     ]
    }
   ],
   "source": [
    "\"\"\"import pyautogui\n",
    "import pyperclip\n",
    "\n",
    "pyautogui.PAUSE = 2 # wait 5s after start program (have a time to set mouse in rhgit place)\n",
    "\n",
    "pyautogui.FAILSAFE = True  # ABORT SOFTWARE - moving the mouse to the upper-left will \n",
    "\n",
    "file_to_save_links = open('linki_spisane_z_py.txt', 'a') #open file to save list of links\n",
    "\n",
    "\n",
    "while True: \n",
    "    if pyperclip.paste() == \"end\":\n",
    "        break\n",
    "    else:\n",
    "\n",
    "\n",
    "        pyautogui.hotkey('ctrl', '1') # go to the first tab\n",
    "        pyautogui.hotkey('ctrl', 'l') # zaznaczenie URL from first bar \n",
    "        pyautogui.hotkey('ctrl', 'c') # in browser copy URL bar for Chrome\n",
    "\n",
    "        file_to_save_links.write(f\"\\n{pyperclip.paste()}\")  # paste copied link to the list at the end \n",
    "\n",
    "        pyautogui.hotkey('ctrl', 'w') # in browser - cloase the card \n",
    "\n",
    "\n",
    "        #pyperclip.copy(url_bar)   # copy finction instead of \"crtl+c\"\n",
    "    \n",
    "     \n",
    "\n",
    "file_to_save_links.close()\"\"\"\n"
   ]
  },
  {
   "cell_type": "code",
   "execution_count": null,
   "id": "6906d537",
   "metadata": {},
   "outputs": [],
   "source": []
  }
 ],
 "metadata": {
  "kernelspec": {
   "display_name": "Python 3",
   "language": "python",
   "name": "python3"
  },
  "language_info": {
   "codemirror_mode": {
    "name": "ipython",
    "version": 3
   },
   "file_extension": ".py",
   "mimetype": "text/x-python",
   "name": "python",
   "nbconvert_exporter": "python",
   "pygments_lexer": "ipython3",
   "version": "3.8.8"
  }
 },
 "nbformat": 4,
 "nbformat_minor": 5
}
