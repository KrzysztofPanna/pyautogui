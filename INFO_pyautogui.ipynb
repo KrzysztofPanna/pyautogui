{
 "cells": [
  {
   "cell_type": "markdown",
   "id": "d31c19b7",
   "metadata": {},
   "source": [
    "### biblioteka pyautogui \n",
    "służy do wykonywania zautomatyzowanych ruchów myszką oraz klawiaturą. W celu użycia biblioteki nalezy ja wgrac \"pip install pyautogui\""
   ]
  },
  {
   "cell_type": "code",
   "execution_count": 6,
   "id": "05db7e9b",
   "metadata": {},
   "outputs": [
    {
     "data": {
      "text/plain": [
       "True"
      ]
     },
     "execution_count": 6,
     "metadata": {},
     "output_type": "execute_result"
    }
   ],
   "source": [
    "import pyautogui\n",
    "\n",
    "pyautogui.position()  # current mouse x and y   (gdy odpalisz w cmd ->> python --> import pyautogui -->pyautogui.position() <-- daje na biezaco koordynaty)\n",
    "\n",
    "pyautogui.size()  # current screen resolution width and height\n",
    "\n",
    "pyautogui.onScreen(200,304)  # True if x & y are within the screen.\n",
    "\n",
    "\n",
    "# w celu ustawienia kursora w odpowiedniej pozycji po starie programu dobrze jest w kodzie umiescic czas na to zeby kursorem\n",
    "# wjechac na odpowiednie miejsce startu\n",
    "pyautogui.PAUSE=2.5\n",
    "\n",
    "\n",
    "# zabezpieczenie --> program rusza, jesli chcesz go przerwac przejedz myszka w lewy gorny rog\n",
    "pyautogui.FAILSAFE = True"
   ]
  },
  {
   "cell_type": "code",
   "execution_count": null,
   "id": "a01b6053",
   "metadata": {},
   "outputs": [],
   "source": []
  }
 ],
 "metadata": {
  "kernelspec": {
   "display_name": "Python 3",
   "language": "python",
   "name": "python3"
  },
  "language_info": {
   "codemirror_mode": {
    "name": "ipython",
    "version": 3
   },
   "file_extension": ".py",
   "mimetype": "text/x-python",
   "name": "python",
   "nbconvert_exporter": "python",
   "pygments_lexer": "ipython3",
   "version": "3.8.8"
  }
 },
 "nbformat": 4,
 "nbformat_minor": 5
}
